{
 "cells": [
  {
   "cell_type": "markdown",
   "metadata": {},
   "source": [
    "### Numpy is used over the list bcz it is faster than the lists in many ways.\n"
   ]
  },
  {
   "cell_type": "code",
   "execution_count": 1,
   "metadata": {},
   "outputs": [],
   "source": [
    "# import it\n",
    "import numpy as np"
   ]
  },
  {
   "cell_type": "code",
   "execution_count": 2,
   "metadata": {},
   "outputs": [
    {
     "name": "stdout",
     "output_type": "stream",
     "text": [
      "\n",
      "1D array without declaring the size\n",
      " [1 2 3 4]\n"
     ]
    }
   ],
   "source": [
    "# way to create an array\n",
    "a=np.array([1,2,3,4])\n",
    "print(\"\\n1D array without declaring the size\\n\", a)\n"
   ]
  },
  {
   "cell_type": "code",
   "execution_count": 3,
   "metadata": {},
   "outputs": [
    {
     "name": "stdout",
     "output_type": "stream",
     "text": [
      "\n",
      "1D array with declaring the size\n",
      " [1 2 3 4]\n"
     ]
    }
   ],
   "source": [
    "# incase we want to declare the size of the array\n",
    "b= np.array([1,2,3,4] , dtype='int16') # not necessary to declare the  bydefault size is 32 bits\n",
    "print(\"\\n1D array with declaring the size\\n\",b)\n"
   ]
  },
  {
   "cell_type": "code",
   "execution_count": 4,
   "metadata": {},
   "outputs": [
    {
     "name": "stdout",
     "output_type": "stream",
     "text": [
      "\n",
      "more than  1D array\n",
      " [[1 2 3 4]\n",
      " [5 6 7 8]]\n"
     ]
    }
   ],
   "source": [
    "# way to create more than 1D array..... 2D\n",
    "c=np.array([[1,2,3,4],[5,6,7,8]])\n",
    "print(\"\\nmore than  1D array\\n\",c)\n"
   ]
  },
  {
   "cell_type": "code",
   "execution_count": 5,
   "metadata": {},
   "outputs": [
    {
     "name": "stdout",
     "output_type": "stream",
     "text": [
      "\n",
      "The dimension of array 'a' is \n",
      " 1\n",
      "\n",
      "The dimension of array 'c' is \n",
      " 2\n"
     ]
    }
   ],
   "source": [
    "# In order to know the dimension means 1D, 2D etc...\n",
    "print(\"\\nThe dimension of array 'a' is \\n\", a.ndim) # will print 1 bcz the array A is a 1D\n",
    "print(\"\\nThe dimension of array 'c' is \\n\", c.ndim) # will print 1 bcz the array C is a 2D\n"
   ]
  },
  {
   "cell_type": "code",
   "execution_count": 6,
   "metadata": {},
   "outputs": [
    {
     "name": "stdout",
     "output_type": "stream",
     "text": [
      "\n",
      "The shape of array 'c' is\n",
      " (2, 4)\n"
     ]
    }
   ],
   "source": [
    "# In order to get the shape --> eg (2,3) like matrices\n",
    "print(\"\\nThe shape of array 'c' is\\n\", c.shape) # will print (2,4) 2=rows and 4=columns\n"
   ]
  },
  {
   "cell_type": "code",
   "execution_count": 7,
   "metadata": {},
   "outputs": [
    {
     "name": "stdout",
     "output_type": "stream",
     "text": [
      "\n",
      "The dtype of array 'b' is\n",
      " int16\n",
      "\n",
      "The dtype of array 'a' is\n",
      " int32\n"
     ]
    }
   ],
   "source": [
    "# In order to know the Data type of array\n",
    "print(\"\\nThe dtype of array 'b' is\\n\", b.dtype) # will print int16 bcz size and dtype is defined\n",
    "print(\"\\nThe dtype of array 'a' is\\n\", a.dtype) # will print int32 by default\n"
   ]
  },
  {
   "cell_type": "code",
   "execution_count": 8,
   "metadata": {},
   "outputs": [
    {
     "name": "stdout",
     "output_type": "stream",
     "text": [
      "\n",
      "The number of bytes space by array 'a' is 16\n",
      "\n",
      "The number of bytes space by array 'b' is 8\n",
      "\n",
      "The number of bytes space by array 'c' is 32\n"
     ]
    }
   ],
   "source": [
    "# In order to know the number of bytes occupied by the array\n",
    "print(\"\\nThe number of bytes space by array 'a' is\", a.nbytes)\n",
    "print(\"\\nThe number of bytes space by array 'b' is\", b.nbytes) # here the size is defined therefore will occupy less space than a nd c\n",
    "print(\"\\nThe number of bytes space by array 'c' is\", c.nbytes)\n"
   ]
  },
  {
   "cell_type": "code",
   "execution_count": 9,
   "metadata": {},
   "outputs": [
    {
     "name": "stdout",
     "output_type": "stream",
     "text": [
      "\n",
      " The item size of array 'a' is 4\n",
      "\n",
      " The item size of array 'b' is 2\n",
      "\n",
      " The item size of array 'c' is 4\n"
     ]
    }
   ],
   "source": [
    "# In order to know the item size of the array\n",
    "print(\"\\n The item size of array 'a' is\", a.itemsize)\n",
    "print(\"\\n The item size of array 'b' is\", b.itemsize)\n",
    "print(\"\\n The item size of array 'c' is\", c.itemsize)\n",
    "\n"
   ]
  },
  {
   "cell_type": "code",
   "execution_count": 10,
   "metadata": {},
   "outputs": [
    {
     "name": "stdout",
     "output_type": "stream",
     "text": [
      "\n",
      " the element in row 0 and column 2 is 3\n",
      "\n",
      "The row 0 elements are\n",
      " [1 2 3 4]\n",
      "\n",
      "The column 2 elements are\n",
      " [3 7]\n",
      "\n",
      " the values of previous array 'a' is changed\n",
      " [1 2 5 4]\n",
      "\n",
      "The values of prevoius array 'c' are chnaged\n",
      " [[ 1  2  3  4]\n",
      " [ 5  6  7 11]]\n"
     ]
    }
   ],
   "source": [
    "# Getting the elements from an array using [row, column] manner\n",
    "# Remember the index starts with 0\n",
    "d=c[0,2] # the array c is defined at line#15\n",
    "print(\"\\n the element in row 0 and column 2 is\", d) # will print 3 from row 0 and column 2\n",
    "\n",
    "# Get all elements of the row [row, :]\n",
    "e=c[0 ,:] # the rray c is defined at line#15\n",
    "print(\"\\nThe row 0 elements are\\n\", e) # will print all the elements of row 0 of array c\n",
    "\n",
    "# Get all elements of the column [:,column]\n",
    "f=c[:, 2] # the rray c is defined at line#15\n",
    "print(\"\\nThe column 2 elements are\\n\", f) # will print the elements of column 2 of array c\n",
    "\n",
    "# To change the value from the array using [row, column]=num \n",
    "a[2]=5 # the row value is not given it is 1D\n",
    "print(\"\\n the values of previous array 'a' is changed\\n\", a) # will print the array with change in value in column 2\n",
    "c[1,3]=11 # now the row and column values are given bcz it is 2D\n",
    "print(\"\\nThe values of prevoius array 'c' are chnaged\\n\", c)\n"
   ]
  },
  {
   "cell_type": "code",
   "execution_count": 11,
   "metadata": {},
   "outputs": [
    {
     "name": "stdout",
     "output_type": "stream",
     "text": [
      "\n",
      "The changed row values of array 'd' is\n",
      " [[ 11  22  33  44]\n",
      " [ 55  66  77  88]\n",
      " [333 333 333 333]]\n",
      "\n",
      "The changed column value of array 'd' is\n",
      " [[ 11  22  33  44]\n",
      " [ 55  66  33  88]\n",
      " [333 333  33 333]]\n",
      "\n",
      "the two different numbers changed in array 'd' \n",
      " [[ 11  22  33  22]\n",
      " [ 55  66  33  55]\n",
      " [333 333  33  77]]\n"
     ]
    }
   ],
   "source": [
    "# Changing the entire row or column of an array using [row, :] or [:, column]\n",
    "# Remember the array should be 1D or more\n",
    "d=np.array([[11,22,33,44],[55,66,77,88],[2,3,1,4]])\n",
    "d[2,:]=333 # will cahnge all the values of a row 2 of the array d\n",
    "print(\"\\nThe changed row values of array 'd' is\\n\", d)\n",
    "d[:,2]=33 #This will change the values of column 2 of array d\n",
    "print(\"\\nThe changed column value of array 'd' is\\n\", d)\n",
    "\n",
    "d[: , 3]=[22, 55, 77] # This will change the values of column 2 of array d\n",
    "print(\"\\nthe two different numbers changed in array 'd' \\n\", d)\n"
   ]
  },
  {
   "cell_type": "code",
   "execution_count": 12,
   "metadata": {},
   "outputs": [
    {
     "name": "stdout",
     "output_type": "stream",
     "text": [
      "\n",
      "The 3D array 't' is defined as\n",
      " [[[11 22 33 44]\n",
      "  [44 33 22 11]]\n",
      "\n",
      " [[55 66 77 88]\n",
      "  [88 77 66 55]]]\n",
      "\n",
      "The shape of 3D array 't' is\n",
      " (2, 2, 4)\n",
      "\n",
      "The number of dimension array 't' are \n",
      " 3\n"
     ]
    }
   ],
   "source": [
    "# 3D array\n",
    "t=np.array([[[11,22,33,44],[44,33,22,11]],[[55,66,77,88],[88,77,66,55]]])\n",
    "print(\"\\nThe 3D array 't' is defined as\\n\", t)\n",
    "print(\"\\nThe shape of 3D array 't' is\\n\", t.shape)\n",
    "print(\"\\nThe number of dimension array 't' are \\n\",t.ndim)\n",
    "\n"
   ]
  },
  {
   "cell_type": "code",
   "execution_count": 13,
   "metadata": {},
   "outputs": [
    {
     "name": "stdout",
     "output_type": "stream",
     "text": [
      "\n",
      "The element from 3d array 't' is\n",
      " 44\n",
      "\n",
      "The part of 3D array is\n",
      " [[44 33 22 11]\n",
      " [88 77 66 55]]\n"
     ]
    }
   ],
   "source": [
    "# To get the specific element using [array, row, colum]\n",
    "# here [arra] defines the index of the matrix whether 0,1,2,...\n",
    "tt=t[0,0,3] # this means matrix = 0, row = 0 and column = 3\n",
    "print(\"\\nThe element from 3d array 't' is\\n\", tt) # must print 4\n",
    "\n",
    "# to get the matrices or whole array\n",
    "ttt=t[:,1,:] # this will print the row 1 from both of the matrices  \n",
    "print(\"\\nThe part of 3D array is\\n\", ttt)\n"
   ]
  },
  {
   "cell_type": "code",
   "execution_count": 14,
   "metadata": {},
   "outputs": [
    {
     "name": "stdout",
     "output_type": "stream",
     "text": [
      "\n",
      "The 3D array with element changed is \n",
      " [[[  11   22   33 4444]\n",
      "  [  44   33   22   11]]\n",
      "\n",
      " [[  55   66   77   88]\n",
      "  [  88   77   66   55]]]\n",
      "\n",
      "The array with changed row value\n",
      " [[[ 1  2  3  4]\n",
      "  [44 33 22 11]]\n",
      "\n",
      " [[ 4  3  2  1]\n",
      "  [88 77 66 55]]]\n",
      "----------------------------------------------------------\n"
     ]
    }
   ],
   "source": [
    "# To change the array elements\n",
    "t[0,0,3]=4444\n",
    "print(\"\\nThe 3D array with element changed is \\n\", t)\n",
    "\n",
    "t[:,0,:]=[[1,2,3,4],[4,3,2,1]] # this will change the row 0 elements of the array\n",
    "print(\"\\nThe array with changed row value\\n\", t)\n",
    "\n",
    "print(\"----------------------------------------------------------\")\n"
   ]
  },
  {
   "cell_type": "code",
   "execution_count": 15,
   "metadata": {},
   "outputs": [
    {
     "name": "stdout",
     "output_type": "stream",
     "text": [
      "\n",
      "mthe zero array of shape 2*3 is\n",
      " [[0. 0. 0.]\n",
      " [0. 0. 0.]]\n",
      "\n",
      "the array of ones is \n",
      " [[1. 1.]\n",
      " [1. 1.]]\n",
      "\n",
      "the 3D array of number is \n",
      " [[[33 33]\n",
      "  [33 33]\n",
      "  [33 33]]\n",
      "\n",
      " [[33 33]\n",
      "  [33 33]\n",
      "  [33 33]]]\n",
      "\n",
      "The 3D identity matrix is\n",
      " [[1. 0. 0. 0.]\n",
      " [0. 1. 0. 0.]\n",
      " [0. 0. 1. 0.]\n",
      " [0. 0. 0. 1.]]\n",
      "\n",
      "The random decimal 3d array is \n",
      " [[[0.29947109 0.45743308]\n",
      "  [0.79833523 0.94098839]]\n",
      "\n",
      " [[0.22189592 0.18693473]\n",
      "  [0.33917634 0.76824604]]]\n",
      "\n",
      "The 3D integer rand0om array is \n",
      " [[[5 9]\n",
      "  [9 9]\n",
      "  [7 8]]\n",
      "\n",
      " [[7 5]\n",
      "  [3 9]\n",
      "  [2 4]]]\n",
      "-----------------------------------------------------\n"
     ]
    }
   ],
   "source": [
    "# To make the different matrices\n",
    "# to make an array of zeros like (shape)\n",
    "d=np.zeros((2,3)) # will print the array of zeros of 2r and 3c \n",
    "print(\"\\nmthe zero array of shape 2*3 is\\n\", d)\n",
    "\n",
    "# to make an array of ones\n",
    "d=np.ones((2,2)) # shape is 2*2\n",
    "print(\"\\nthe array of ones is \\n\", d)\n",
    "\n",
    "# to make an array of any other number full((shape), number)\n",
    "d=np.full((2,3,2), 33) # will make a 3D array of 33 number\n",
    "print(\"\\nthe 3D array of number is \\n\", d)\n",
    "\n",
    "# to make an identity matrix --> identity(size)\n",
    "i=np.identity(4) # will make identity matrix of size 4\n",
    "print(\"\\nThe 3D identity matrix is\\n\", i)\n",
    "\n",
    "# to make an array of random decimal numbers --> random.rand(shape)\n",
    "r=np.random.rand(2,2,2) # will make 3D array of random decimal numbers\n",
    "print(\"\\nThe random decimal 3d array is \\n\", r)\n",
    "\n",
    "# to make an array of integer random nums --> random.randint(start num, end num, size=(shape))\n",
    "r=np.random.randint(2,10, size=(2,3,2)) # will  make 3D array, the starting num is always excluded in the array\n",
    "print(\"\\nThe 3D integer rand0om array is \\n\", r)\n",
    "\n",
    "print(\"-----------------------------------------------------\")\n"
   ]
  },
  {
   "cell_type": "code",
   "execution_count": 16,
   "metadata": {},
   "outputs": [
    {
     "name": "stdout",
     "output_type": "stream",
     "text": [
      "\n",
      "The repeated array is \n",
      " [[1 2 3 4]\n",
      " [1 2 3 4]\n",
      " [1 2 3 4]]\n",
      "--------------------------------------------------------\n"
     ]
    }
   ],
   "source": [
    "# To repeat an array as many times as you want\n",
    "# --> repeat(name, times)\n",
    "r=np.array([[1,2,3,4]]) # first make the 2D array\n",
    "rep=np.repeat(r, 3, axis=0)\n",
    "print(\"\\nThe repeated array is \\n\", rep)\n",
    "\n",
    "print(\"--------------------------------------------------------\")\n",
    "\n"
   ]
  },
  {
   "cell_type": "code",
   "execution_count": 17,
   "metadata": {},
   "outputs": [
    {
     "name": "stdout",
     "output_type": "stream",
     "text": [
      "\n",
      "the copied array is\n",
      " [1 2 3 4]\n",
      "---------------------------------------------------------\n"
     ]
    }
   ],
   "source": [
    "# To copy the array elements into another one\n",
    "# -->  .copy() \n",
    "a=np.array([1,2,3,4])\n",
    "b=a.copy()\n",
    "print(\"\\nthe copied array is\\n\", b)\n",
    "\n",
    "print(\"---------------------------------------------------------\")\n"
   ]
  },
  {
   "cell_type": "code",
   "execution_count": 18,
   "metadata": {},
   "outputs": [
    {
     "name": "stdout",
     "output_type": "stream",
     "text": [
      "\n",
      "the array after adding a num is \n",
      " [ 5  7  9 11 13]\n",
      "\n",
      "the array after sutracting a num is \n",
      " [-1  1  3  5  7]\n",
      "\n",
      "the array after multiplying a num is \n",
      " [ 6 12 18 24 30]\n",
      "\n",
      "the array after dividing a num is \n",
      " [0.66666667 1.33333333 2.         2.66666667 3.33333333]\n",
      "\n",
      "The array with power 2 is\n",
      " [  4  16  36  64 100]\n"
     ]
    }
   ],
   "source": [
    "# subtracting, adding, multiplying, and dividing any number with an array\n",
    "# we can apply any of the mathematical operation on arrays\n",
    "a=np.array([2,4,6,8,10])\n",
    "print(\"\\nthe array after adding a num is \\n\", a+3)\n",
    "print(\"\\nthe array after sutracting a num is \\n\", a-3)\n",
    "print(\"\\nthe array after multiplying a num is \\n\", a*3)\n",
    "print(\"\\nthe array after dividing a num is \\n\", a/3)\n",
    "print(\"\\nThe array with power 2 is\\n\", a**2)\n"
   ]
  },
  {
   "cell_type": "code",
   "execution_count": 19,
   "metadata": {},
   "outputs": [
    {
     "name": "stdout",
     "output_type": "stream",
     "text": [
      "\n",
      "The array after adding two arrays is\n",
      " [ 3  6  9 12 15]\n",
      "\n",
      "The array after subtrating two arrays is\n",
      " [1 2 3 4 5]\n",
      "\n",
      "The array after multiplying two arrays is\n",
      " [ 2  8 18 32 50]\n",
      "\n",
      "The array after dividing two arrays is\n",
      " [2. 2. 2. 2. 2.]\n"
     ]
    }
   ],
   "source": [
    "# +, -, /, * any of the arrays\n",
    "a=np.array([2,4,6,8,10])\n",
    "b=np.array([1,2,3,4,5])\n",
    "print(\"\\nThe array after adding two arrays is\\n\", a+b)\n",
    "print(\"\\nThe array after subtrating two arrays is\\n\", a-b)\n",
    "print(\"\\nThe array after multiplying two arrays is\\n\", a*b) # this multiplication is not same the matrix multiplication bcz in this multiplication the elements at respective positions are being multiplied.  Nut in matrix multipliocation it is necesary to have columns of 1st matrix = rows of 2nd\n",
    "print(\"\\nThe array after dividing two arrays is\\n\", a/b)\n"
   ]
  },
  {
   "cell_type": "code",
   "execution_count": 20,
   "metadata": {},
   "outputs": [
    {
     "name": "stdout",
     "output_type": "stream",
     "text": [
      "\n",
      "The sin of array is \n",
      " [ 0.89399666 -0.80115264 -0.17604595  0.95891572]\n",
      "\n",
      "The cos of array is \n",
      " [-0.44807362 -0.59846007  0.98438195 -0.28369109]\n",
      "\n",
      "The tan of array is \n",
      " [-1.99520041  1.33869021 -0.17883906 -3.38014041]\n"
     ]
    }
   ],
   "source": [
    "# trigonomatric functions on array\n",
    "# --> np.trigonomatric identity (array)\n",
    "a=np.array([90,180,270,360])\n",
    "print(\"\\nThe sin of array is \\n\", np.sin(a))\n",
    "print(\"\\nThe cos of array is \\n\", np.cos(a))\n",
    "print(\"\\nThe tan of array is \\n\", np.tan(a))\n",
    "\n"
   ]
  },
  {
   "cell_type": "code",
   "execution_count": 21,
   "metadata": {},
   "outputs": [
    {
     "name": "stdout",
     "output_type": "stream",
     "text": [
      "\n",
      "Tyhe multipied arrays are\n",
      " [[3. 3.]\n",
      " [3. 3.]\n",
      " [3. 3.]]\n",
      "\n",
      "The detreminant of tyhe array is\n",
      " 1.0\n",
      "------------------------------------------------\n"
     ]
    }
   ],
   "source": [
    "# applaying Linear Algebra on the arrays\n",
    "# multilplying arrays algebraically\n",
    "# --np.matmul(array1, array2)\n",
    "a=np.identity(3)\n",
    "b=np.full((3,2), 3)\n",
    "c=np.matmul(a,b)\n",
    "print(\"\\nTyhe multipied arrays are\\n\", c)\n",
    "\n",
    "# to find out the determinant of array\n",
    "# --> np.linalg.det(array)\n",
    "# the matrix should be square in ty\n",
    "a=np.identity(3)\n",
    "d=np.linalg.det(a) # will print 1 bcz determinant of an identity matrix is always 1\n",
    "print(\"\\nThe detreminant of tyhe array is\\n\", d)\n",
    "\n",
    "print(\"------------------------------------------------\")\n"
   ]
  },
  {
   "cell_type": "code",
   "execution_count": 22,
   "metadata": {},
   "outputs": [
    {
     "name": "stdout",
     "output_type": "stream",
     "text": [
      "\n",
      "The minimun element from an array is -->  11\n"
     ]
    }
   ],
   "source": [
    "#Some other mathematics operations\n",
    "#to find the minimum element in an array\n",
    "# --> np.min(array)\n",
    "t=np.array([[[11,22,33,44],[44,33,22,11]],[[55,66,77,88],[88,77,66,55]]]) # Reused 3D array\n",
    "min=np.min(t)\n",
    "print(\"\\nThe minimun element from an array is --> \", min)\n"
   ]
  },
  {
   "cell_type": "code",
   "execution_count": 23,
   "metadata": {},
   "outputs": [
    {
     "name": "stdout",
     "output_type": "stream",
     "text": [
      "\n",
      "All the minimum elements from an array are\n",
      " [1 5]\n",
      "\n",
      "The maximum element from an array is -->  88\n",
      "\n",
      "All the maximum elements of an array are\n",
      " [4 8]\n",
      "\n",
      "The sum of all the elements of an array is -->  36\n"
     ]
    }
   ],
   "source": [
    "# to find the minmum elements from each matrix\n",
    "# --> np.min(array, axis=1)\n",
    "# axis=0 will give all the values from row 0\n",
    "c=np.array([[1,2,3,4],[5,6,7,8]])\n",
    "min=np.min(c, axis=1)\n",
    "print(\"\\nAll the minimum elements from an array are\\n\", min)\n",
    "\n",
    "# To find the maximum element from an array\n",
    "# --> np.max(array)\n",
    "t=np.array([[[11,22,33,44],[44,33,22,11]],[[55,66,77,88],[88,77,66,55]]])\n",
    "max=np.max(t)\n",
    "print(\"\\nThe maximum element from an array is --> \", max)\n",
    "\n",
    "# To find all the maximum values of an array\n",
    "# --> np.max(array, axis=1)\n",
    "# axis=0 will give all the values from row 0\n",
    "c=np.array([[1,2,3,4],[5,6,7,8]])\n",
    "max=np.max(c, axis=1)\n",
    "print(\"\\nAll the maximum elements of an array are\\n\", max)\n",
    "\n",
    "# To find the total sum of all the elements of an array\n",
    "# np.sum(array)\n",
    "c=np.array([[1,2,3,4],[5,6,7,8]]) # elements of both of these will be added with each other\n",
    "sum=np.sum(c)\n",
    "print(\"\\nThe sum of all the elements of an array is --> \", sum)\n"
   ]
  },
  {
   "cell_type": "code",
   "execution_count": 24,
   "metadata": {},
   "outputs": [
    {
     "name": "stdout",
     "output_type": "stream",
     "text": [
      "\n",
      "the sum elements  of one row with other is\n",
      " [ 6  8 10 12]\n",
      "[10 26]\n",
      "--------------------------------------------------\n"
     ]
    }
   ],
   "source": [
    "# to add the the elements of one row with the other\n",
    "# n--> np.sum(array, axis=0)\n",
    "# if axis=1 this will yield the sum of all first row elements and sum of all 2nd row elements in matrix form\n",
    "# in place of sum, other mathematical operations like squre root (sqrt), square (square), absolute(abs) etc can be performed in same manner\n",
    "c=np.array([[1,2,3,4],[5,6,7,8]])\n",
    "sum=np.sum(c, axis=0)\n",
    "print(\"\\nthe sum elements  of one row with other is\\n\", sum) \n",
    "sum=np.sum(c, axis=1)\n",
    "print(sum)\n",
    "\n",
    "print(\"--------------------------------------------------\")\n"
   ]
  },
  {
   "cell_type": "code",
   "execution_count": 25,
   "metadata": {},
   "outputs": [
    {
     "name": "stdout",
     "output_type": "stream",
     "text": [
      "(2, 4)\n",
      "\n",
      "The reshapped aray is \n",
      " [[1 2]\n",
      " [3 4]\n",
      " [5 6]\n",
      " [7 8]]\n"
     ]
    }
   ],
   "source": [
    "# Reshaping the matrix of own choice\n",
    "# --> array.reshape((row, column))\n",
    "c=np.array([[1,2,3,4],[5,6,7,8]])\n",
    "print(c.shape) # will yield (2,4)\n",
    "reshape=c.reshape((4,2)) # will make an array of 4 rows and 2 columns\n",
    "print(\"\\nThe reshapped aray is \\n\", reshape)\n"
   ]
  },
  {
   "cell_type": "code",
   "execution_count": 26,
   "metadata": {},
   "outputs": [
    {
     "name": "stdout",
     "output_type": "stream",
     "text": [
      "\n",
      "the array after combination is\n",
      " [[ 1  2  3  4]\n",
      " [11 22 33 44]\n",
      " [ 5  6  7  8]\n",
      " [55 66 77 88]]\n",
      "\n",
      "the array after combination is\n",
      " [[ 1  2  3  4]\n",
      " [11 22 33 44]\n",
      " [ 5  6  7  8]\n",
      " [55 66 77 88]\n",
      " [ 1  2  3  4]\n",
      " [11 22 33 44]\n",
      " [ 5  6  7  8]\n",
      " [55 66 77 88]\n",
      " [ 1  2  3  4]\n",
      " [11 22 33 44]\n",
      " [ 5  6  7  8]\n",
      " [55 66 77 88]\n",
      " [ 5  6  7  8]\n",
      " [55 66 77 88]]\n",
      "\n",
      "The array after combination is\n",
      " [1. 2. 3. 4. 1. 1. 1. 1.]\n",
      "----------------------------------------------\n"
     ]
    }
   ],
   "source": [
    "# combinning two matrices into a single matrix VERTICALLY\n",
    "# --> np.vstack([array1, array2, ...])\n",
    "v1=np.array([[1,2,3,4], [11,22,33,44]])\n",
    "v2=np.array([[5,6,7,8], [55,66,77,88]])\n",
    "single=np.vstack([v1, v2])\n",
    "print(\"\\nthe array after combination is\\n\", single)\n",
    "\n",
    "# we can also use any matrix to be included many times in a single matrix\n",
    "v1=np.array([[1,2,3,4], [11,22,33,44]])\n",
    "v2=np.array([[5,6,7,8], [55,66,77,88]])\n",
    "singlev=np.vstack([v1, v2, v1, v2,v1,v2,v2])\n",
    "print(\"\\nthe array after combination is\\n\", singlev)\n",
    "\n",
    "# combinning two matrices into a single matrix HORIZONTALLY\n",
    "# --> np.hstack([array1, array2])\n",
    "h1=np.array([1,2,3,4])\n",
    "h2=np.ones(4)\n",
    "singleh=np.hstack([h1,h2])\n",
    "print(\"\\nThe array after combination is\\n\", singleh)\n",
    "\n",
    "print(\"----------------------------------------------\")\n"
   ]
  },
  {
   "cell_type": "code",
   "execution_count": 28,
   "metadata": {},
   "outputs": [
    {
     "name": "stdout",
     "output_type": "stream",
     "text": [
      "\n",
      "the Boolean answer in an array\n",
      " [[False False False False]\n",
      " [ True  True  True  True]\n",
      " [False False False False]\n",
      " [ True  True  True  True]\n",
      " [False False False False]\n",
      " [ True  True  True  True]\n",
      " [False False False False]\n",
      " [ True  True  True  True]\n",
      " [False False False False]\n",
      " [ True  True  True  True]\n",
      " [False False False False]\n",
      " [ True  True  True  True]\n",
      " [False False False False]\n",
      " [ True  True  True  True]]\n",
      "\n",
      "the elements in anarray after comparing\n",
      " [11 22 33 44  6  7  8 55 66 77 88]\n"
     ]
    }
   ],
   "source": [
    "# load the data from a file\n",
    "# --> np.genfromtxt('name of file.extension', delimiter='data separated by (, or other symbol)')\n",
    "# first make a file and add some data into it and than load it in the above mentioned manner\n",
    "# File should be saved in the sme folder in which program is already saved\n",
    "# ??????????????????The following program is throwing error of file not found ?????????????????????\n",
    "# load_data=np.genfromtxt('sample.txt' , delimiter=',')\n",
    "# print(\"\\nThe loaded data from a file\", load_data.dtype(int))\n",
    "\n",
    "# to get the output in Boolean formate\n",
    "# True or False output by comparing the elements\n",
    "v1=np.array([[1,2,3,4], [11,22,33,44]])\n",
    "v2=np.array([[5,6,7,8], [55,66,77,88]])\n",
    "singlev=np.vstack([v1, v2, v1, v2,v1,v2,v2])\n",
    "print(\"\\nthe Boolean answer in an array\\n\", singlev>10) # will compare the elements with 10 and gives the output in True or False manner \n",
    "\n",
    "# to get the elements after comparing them in an array formate\n",
    "# --> array[array compare]\n",
    "v1=np.array([[1,2,3,4], [11,22,33,44]])\n",
    "v2=np.array([[5,6,7,8], [55,66,77,88]])\n",
    "single=np.vstack([v1, v2])\n",
    "print(\"\\nthe elements in anarray after comparing\\n\",single[single >5]) # will print all the elements from an array into the array formate\n",
    "\n",
    "#------------------------------------ the end --------------------------------------"
   ]
  },
  {
   "cell_type": "code",
   "execution_count": null,
   "metadata": {},
   "outputs": [],
   "source": []
  }
 ],
 "metadata": {
  "kernelspec": {
   "display_name": "Python 3",
   "language": "python",
   "name": "python3"
  },
  "language_info": {
   "codemirror_mode": {
    "name": "ipython",
    "version": 3
   },
   "file_extension": ".py",
   "mimetype": "text/x-python",
   "name": "python",
   "nbconvert_exporter": "python",
   "pygments_lexer": "ipython3",
   "version": "3.11.1"
  }
 },
 "nbformat": 4,
 "nbformat_minor": 2
}
