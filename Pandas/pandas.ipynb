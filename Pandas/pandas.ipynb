{
 "cells": [
  {
   "cell_type": "markdown",
   "metadata": {},
   "source": [
    "### pandas was created by wes mckinney in 2008.\n",
    "### pandas is a python library which helps us in data analysis and data modification. it can clean the messy data and make it readable and understandable.\n",
    "### Data analysis is a process of inspecting, cleansing, transforming, and modeling data with the goal of discovering useful information, informing conclusions, and supporting decision_making\n",
    "### Data analysis is done by two methods 1) visualization --> in which we make graphs of data, and 2) Analysis--> which includes all the processes of the data.\n",
    "### There are three types of data structures used in pandas.\n",
    "### 1)Series, 2) data frames, and 3) Panels"
   ]
  },
  {
   "cell_type": "code",
   "execution_count": 1,
   "metadata": {},
   "outputs": [],
   "source": [
    "# import the libraries\n",
    "import pandas as pd\n",
    "import numpy as np"
   ]
  },
  {
   "cell_type": "markdown",
   "metadata": {},
   "source": [
    "# 1) Series:\n",
    "### deals with 1D data conataining arrays \n",
    "### --> pd.Series(array/list/dic etc, index=[anything for indexing] , dtype='', name=\"\")"
   ]
  },
  {
   "cell_type": "code",
   "execution_count": 2,
   "metadata": {},
   "outputs": [
    {
     "name": "stdout",
     "output_type": "stream",
     "text": [
      "0    12\n",
      "dtype: int64\n"
     ]
    }
   ],
   "source": [
    "# making a simple series\n",
    "s1=pd.Series(12)\n",
    "print(s1) # this will print 12 at index 0"
   ]
  },
  {
   "cell_type": "code",
   "execution_count": 3,
   "metadata": {},
   "outputs": [
    {
     "name": "stdout",
     "output_type": "stream",
     "text": [
      "1    12\n",
      "2    12\n",
      "3    12\n",
      "4    12\n",
      "5    12\n",
      "6    12\n",
      "7    12\n",
      "8    12\n",
      "9    12\n",
      "dtype: int64\n"
     ]
    }
   ],
   "source": [
    "# to make a series of many same numbers withe different indices\n",
    "s2=pd.Series(12, index=[1,2,3,4,5,6,7,8,9]) \n",
    "print(s2) # this will print 12 at 9 different indices"
   ]
  },
  {
   "cell_type": "code",
   "execution_count": 4,
   "metadata": {},
   "outputs": [
    {
     "name": "stdout",
     "output_type": "stream",
     "text": [
      "\n",
      "The series of array 'a' without defining indices is\n",
      " 0    1\n",
      "1    2\n",
      "2    3\n",
      "3    4\n",
      "4    5\n",
      "5    6\n",
      "dtype: int32\n"
     ]
    }
   ],
   "source": [
    "# other examples\n",
    "a=np.array([1,2,3,4,5,6]) # it is not necessary to make array bcz a simple list can also work\n",
    "print(\"\\nThe series of array 'a' without defining indices is\\n\",pd.Series(a)) # a series will be printed with indices staring with 0 by default\n",
    " "
   ]
  },
  {
   "cell_type": "code",
   "execution_count": 5,
   "metadata": {},
   "outputs": [
    {
     "name": "stdout",
     "output_type": "stream",
     "text": [
      "\n",
      "The Series of array 'a' with indices, datatype and name defined, is\n",
      " one      1\n",
      "two      2\n",
      "three    3\n",
      "four     4\n",
      "five     5\n",
      "six      6\n",
      "Name: Simple Series, dtype: int32\n"
     ]
    }
   ],
   "source": [
    " \n",
    "# making series by giving indices of our own choice using above mentioned array 'a'\n",
    "b=pd.Series(a, index=['one','two', 'three', 'four','five', 'six'], dtype=\"int32\", name=\"Simple Series\")\n",
    "print(\"\\nThe Series of array 'a' with indices, datatype and name defined, is\\n\", b)\n"
   ]
  },
  {
   "cell_type": "code",
   "execution_count": 6,
   "metadata": {},
   "outputs": [
    {
     "name": "stdout",
     "output_type": "stream",
     "text": [
      "\n",
      "the series of a dictionary 'dic' is\n",
      "  name                  [Haji, Khan, Imran]\n",
      "age                          [19, 20, 69]\n",
      "designation    [Student, Teacher, Maalik]\n",
      "dtype: object\n"
     ]
    }
   ],
   "source": [
    "\n",
    "# we can also pass dictionary, tuple, sets etc to make a series\n",
    "dic={\"name\":['Haji', 'Khan', 'Imran'], \"age\":[19, 20, 69], \"designation\":['Student', 'Teacher', 'Maalik']}\n",
    "d=pd.Series(dic) # here Keys/Names work as names of rows bcz index=[] is defined, if defined the keys will work as column names\n",
    "print(\"\\nthe series of a dictionary 'dic' is\\n \", d)\n"
   ]
  },
  {
   "cell_type": "code",
   "execution_count": 7,
   "metadata": {},
   "outputs": [
    {
     "name": "stdout",
     "output_type": "stream",
     "text": [
      "\n",
      "The sum of elements of two arrays is\n",
      " 1    13.0\n",
      "2    14.0\n",
      "3    15.0\n",
      "4    16.0\n",
      "5    17.0\n",
      "6    18.0\n",
      "7     NaN\n",
      "8     NaN\n",
      "9     NaN\n",
      "dtype: float64\n"
     ]
    }
   ],
   "source": [
    "\n",
    "# mathematics on series (+, -, *, /)\n",
    "s2=pd.Series(12, index=[1,2,3,4,5,6,7,8,9])\n",
    "# b=pd.Series(s2)\n",
    "a=np.array([1,2,3,4,5,6])\n",
    "c=pd.Series(a, index=[1,2,3,4,5,6])\n",
    "print(\"\\nThe sum of elements of two arrays is\\n\", s2+c) # this will add the elements but the length of first series is greater than that of sencond, therefore, the elements which are not added a NAN will be printed inplace of those elements. \n"
   ]
  },
  {
   "cell_type": "markdown",
   "metadata": {},
   "source": [
    "# 2) Data Frames\n",
    "### 2D data conataining arrays much like a table\n",
    "### --> pd.Dataframe(array/list/dic etc, )"
   ]
  },
  {
   "cell_type": "code",
   "execution_count": 8,
   "metadata": {},
   "outputs": [
    {
     "name": "stdout",
     "output_type": "stream",
     "text": [
      "\n",
      "The data frame of array 'a' is\n",
      "    0\n",
      "0  1\n",
      "1  2\n",
      "2  3\n",
      "3  4\n",
      "4  5\n",
      "5  6\n",
      "6  7\n"
     ]
    }
   ],
   "source": [
    "# making simple data frame\n",
    "arr=np.array([1,2,3,4,5,6,7]) # simple list can also be used \n",
    "a=pd.DataFrame(arr)\n",
    "print(\"\\nThe data frame of array 'a' is\\n\", a) # this will print a table of data containing rows and columns \n"
   ]
  },
  {
   "cell_type": "code",
   "execution_count": 9,
   "metadata": {},
   "outputs": [
    {
     "name": "stdout",
     "output_type": "stream",
     "text": [
      "\n",
      "the data farme of a dictionary 'dic' is\n",
      "           name  age designation\n",
      "value1   Haji   19     Student\n",
      "value2   Khan   20     Teacher\n",
      "value3  Imran   69      Maalik\n"
     ]
    }
   ],
   "source": [
    "# making data frame using dictionary in which \"Key\" will work as column name and :value will work as data, while the row indexing will be same as default unless we bring change in it\n",
    "###### the data in dictionary must be balanced otherwise it will throw an error.#####\n",
    "dic={\"name\":['Haji', 'Khan', 'Imran'], \"age\":[19, 20, 69], \"designation\":['Student', 'Teacher', 'Maalik']}\n",
    "d=pd.DataFrame(dic , index=['value1', 'value2', 'value3']) # if index is not give than it will be printed as 0,1,2,...\n",
    "print(\"\\nthe data farme of a dictionary 'dic' is\\n \", d)\n"
   ]
  },
  {
   "cell_type": "code",
   "execution_count": 10,
   "metadata": {},
   "outputs": [
    {
     "name": "stdout",
     "output_type": "stream",
     "text": [
      "\n",
      "The data of column 'name' of dic is\n",
      "          name\n",
      "value1   Haji\n",
      "value2   Khan\n",
      "value3  Imran\n"
     ]
    }
   ],
   "source": [
    "\n",
    "# to see the data of desired column\n",
    "# --> pd.dataframe(array, columns=['name'])\n",
    "dic={\"name\":['Haji', 'Khan', 'Imran'], \"age\":[19, 20, 69], \"designation\":['Student', 'Teacher', 'Maalik']}\n",
    "d=pd.DataFrame(dic , index=['value1', 'value2', 'value3'], columns=['name'])\n",
    "print(\"\\nThe data of column 'name' of dic is\\n\", d) # the data of provided column will be displayed\n"
   ]
  },
  {
   "cell_type": "code",
   "execution_count": 11,
   "metadata": {},
   "outputs": [
    {
     "name": "stdout",
     "output_type": "stream",
     "text": [
      "20\n"
     ]
    }
   ],
   "source": [
    "\n",
    "# extarct the desired value from the data frame\n",
    "# --> [\"column name/Key\"][row/index]\n",
    "d=pd.DataFrame(dic , index=['value1', 'value2', 'value3'])\n",
    "print(d[\"age\"]['value2']) # this will print value from column age and row value2\n"
   ]
  },
  {
   "cell_type": "code",
   "execution_count": 12,
   "metadata": {},
   "outputs": [
    {
     "name": "stdout",
     "output_type": "stream",
     "text": [
      "\n",
      " the dataframe from a 2D array is\n",
      "     v1  v2  v3  v4   v5\n",
      "r1  11  22  33  44   55\n",
      "r2  66  77  88  99  100\n"
     ]
    }
   ],
   "source": [
    "\n",
    "# making data frame from an multidimensional arrays  or list of list\n",
    "ar=np.array([[11,22,33,44,55], [66,77,88,99,100]])\n",
    "a_1=pd.DataFrame(ar, index=['r1', 'r2'], columns=['v1', 'v2', 'v3', 'v4', 'v5']) # columns[''] serves as the names of columns\n",
    "print(\"\\n the dataframe from a 2D array is\\n\", a_1)\n"
   ]
  },
  {
   "cell_type": "code",
   "execution_count": 13,
   "metadata": {},
   "outputs": [
    {
     "name": "stdout",
     "output_type": "stream",
     "text": [
      "\n",
      "The dataframe using Series is \n",
      "    s1  s2\n",
      "0   1  22\n",
      "1   2  33\n",
      "2   3  44\n",
      "3   4  55\n",
      "4   5  66\n"
     ]
    }
   ],
   "source": [
    "\n",
    "# making data frame using Series\n",
    "sr={\"s1\":pd.Series([1,2,3,4,5]), \"s2\":pd.Series([22,33,44,55,66])} # s1 and s2 serves as the names of columns\n",
    "s=pd.DataFrame(sr)\n",
    "print(\"\\nThe dataframe using Series is \\n\", s)\n"
   ]
  },
  {
   "cell_type": "markdown",
   "metadata": {},
   "source": [
    "### Arithimatic on pandas (+,-,*,/)"
   ]
  },
  {
   "cell_type": "code",
   "execution_count": 14,
   "metadata": {},
   "outputs": [
    {
     "name": "stdout",
     "output_type": "stream",
     "text": [
      "\n",
      "The data frame after adding two coulmns is\n",
      "    Column_1  Column_2  Column_3\n",
      "0         1        11        12\n",
      "1         2        22        24\n",
      "2         3        33        36\n",
      "3         4        44        48\n",
      "4         5        55        60\n"
     ]
    }
   ],
   "source": [
    "# adding two columns and save the data in another column and than make it the part of the same data frame\n",
    "a=pd.DataFrame({\"Column_1\":[1,2,3,4,5], \"Column_2\":[11,22,33,44,55]})\n",
    "a[\"Column_3\"]=a[\"Column_1\"]+a[\"Column_2\"] # here the elements of the col1 and col2 are adding and saved in col 3 of df 'a'\n",
    "# we can also perform any arithematic operation b/w the columns as mentioned in parenthesis above\n",
    "print(\"\\nThe data frame after adding two coulmns is\\n\",a) # will print the data of above three columns\n"
   ]
  },
  {
   "cell_type": "code",
   "execution_count": 15,
   "metadata": {},
   "outputs": [
    {
     "name": "stdout",
     "output_type": "stream",
     "text": [
      "\n",
      "After comparing the data frame obtained is\n",
      "           A\n",
      "val1   True\n",
      "val2   True\n",
      "val3  False\n",
      "val4  False\n"
     ]
    }
   ],
   "source": [
    "\n",
    "# Comparing two values of the same column\n",
    "val=pd.DataFrame({\"A\":[11,22,33,44], \"B\":[55,66,77,88]}, index=[\"val1\", \"val2\", \"val3\", \"val4\"])\n",
    "comp=pd.DataFrame(val[\"A\"] <=30)\n",
    "print(\"\\nAfter comparing the data frame obtained is\\n\", comp) # will return the boolean answer \n"
   ]
  },
  {
   "cell_type": "code",
   "execution_count": 16,
   "metadata": {},
   "outputs": [
    {
     "name": "stdout",
     "output_type": "stream",
     "text": [
      "\n",
      "After comparing the data frame along with the copmared column is\n",
      "        A   B  copm1  copm2\n",
      "val1  11  55   True  False\n",
      "val2  22  66   True   True\n",
      "val3  33  77  False   True\n",
      "val4  44  88  False   True\n"
     ]
    }
   ],
   "source": [
    "\n",
    "# now in order to add the compared column to the data frame \n",
    "val=pd.DataFrame({\"A\":[11,22,33,44], \"B\":[55,66,77,88]}, index=[\"val1\", \"val2\", \"val3\", \"val4\"])\n",
    "val[\"copm1\"] = val[\"A\"] <=30 # this will return the boolean answer in the same data frame\n",
    "val[\"copm2\"] = val[\"B\"] >=60\n",
    "print(\"\\nAfter comparing the data frame along with the copmared column is\\n\", val)\n"
   ]
  },
  {
   "cell_type": "code",
   "execution_count": 17,
   "metadata": {},
   "outputs": [
    {
     "name": "stdout",
     "output_type": "stream",
     "text": [
      "\n",
      "After copying the deisred elements the data frame is\n",
      "    Column_1  Column_2  Desired_val\n",
      "0         1        11          1.0\n",
      "1         2        22          2.0\n",
      "2         3        33          3.0\n",
      "3         4        44          NaN\n",
      "4         5        55          NaN\n"
     ]
    }
   ],
   "source": [
    "\n",
    "# adding the desired copy elements from one column to the new one\n",
    "# here the slicing[:] is used\n",
    "val=pd.DataFrame({\"Column_1\":[1,2,3,4,5], \"Column_2\":[11,22,33,44,55]})\n",
    "val[\"Desired_val\"]=val[\"Column_1\"][:3] # this will copy the top most three elements in a new column\n",
    "print(\"\\nAfter copying the deisred elements the data frame is\\n\", val) # a NAN is printed in the place of non copied elements\n"
   ]
  },
  {
   "cell_type": "markdown",
   "metadata": {},
   "source": [
    "### Delete and Insert functions"
   ]
  },
  {
   "cell_type": "code",
   "execution_count": 18,
   "metadata": {},
   "outputs": [
    {
     "name": "stdout",
     "output_type": "stream",
     "text": [
      "\n",
      "The data frame after insert() function is\n",
      "     A  B  Copy of A   C\n",
      "r1  1  5          1  11\n",
      "r2  2  6          2  22\n",
      "r3  3  7          3  33\n",
      "r4  4  8          4  44\n"
     ]
    }
   ],
   "source": [
    "# inserting any column in a ndata frame \n",
    "# name.insert(column position, \"new column name\", values or to make same copy of the column as-->column[\"column name\"])\n",
    "v=pd.DataFrame({\"A\":[1,2,3,4], \"B\":[5,6,7,8]}, index=['r1', 'r2', 'r3', 'r4'])\n",
    "v.insert(2,\"C\", [11,22,33,44]) # this will add a new column C at the position 3\n",
    "v.insert(2, \"Copy of A\", v[\"A\"]) # this will include copy of A at the 2nd position \n",
    "print(\"\\nThe data frame after insert() function is\\n\", v)\n"
   ]
  },
  {
   "cell_type": "code",
   "execution_count": 19,
   "metadata": {},
   "outputs": [
    {
     "name": "stdout",
     "output_type": "stream",
     "text": [
      "\n",
      "After deleting whole the column\n",
      " r1    5\n",
      "r2    6\n",
      "r3    7\n",
      "r4    8\n",
      "Name: B, dtype: int64\n",
      "\n",
      "After deleting the column the data frame is\n",
      "     A\n",
      "r1  1\n",
      "r2  2\n",
      "r3  3\n",
      "r4  4\n"
     ]
    }
   ],
   "source": [
    "\n",
    "# deleting the whole column\n",
    "# --> pop(\"column name\")\n",
    "v=pd.DataFrame({\"A\":[1,2,3,4], \"B\":[5,6,7,8]}, index=['r1', 'r2', 'r3', 'r4'])\n",
    "p=v.pop(\"B\") # will delete the column B\n",
    "print(\"\\nAfter deleting whole the column\\n\", p) # this will delete the column and print the values only but not the column name, and at the bottom of the answer, a message like name=B, dtype=32 will be displayed which indicates that the column mentioned in name is deleted.\n",
    "print(\"\\nAfter deleting the column the data frame is\\n\", v) # now this will print the data frame along with the names of remaining non deleted columns\n"
   ]
  },
  {
   "cell_type": "code",
   "execution_count": 20,
   "metadata": {},
   "outputs": [
    {
     "name": "stdout",
     "output_type": "stream",
     "text": [
      "\n",
      "After deleting desired column using dl var['name'] function is\n",
      "     B\n",
      "r1  5\n",
      "r2  6\n",
      "r3  7\n",
      "r4  8\n"
     ]
    }
   ],
   "source": [
    "# deleting columns using \n",
    "# --> del variable_Name[\"column name\"]\n",
    "v=pd.DataFrame({\"A\":[1,2,3,4], \"B\":[5,6,7,8]}, index=['r1', 'r2', 'r3', 'r4'])\n",
    "del v[\"A\"] # this will delete the column A and the data frame is printed along with non deleted column names\n",
    "print(\"\\nAfter deleting desired column using dl var['name'] function is\\n\", v)\n"
   ]
  },
  {
   "cell_type": "markdown",
   "metadata": {},
   "source": [
    "### working with csv and Excel files"
   ]
  },
  {
   "cell_type": "code",
   "execution_count": 21,
   "metadata": {},
   "outputs": [],
   "source": [
    "# csv file--> a csv formate is a plain text in which values are separated by commas\n",
    "\n",
    "# XLS--> an xls file formate is an Excel sheets binary file formate which holds information about all the worksheets in a file including both content and formatting.\n",
    "\n",
    "# creating a simple csv file \n",
    "\n",
    "# --> variable_name.to_csv(\"File name.csv\", index=[] or False, header=[])\n",
    "# index=false means there will not be any andex in the file, and header=[] is used to add the column names\n",
    "c=np.array([[1,2,3,4,5],[11,22,33,44,55], [5,4,3,2,1],[55,44,33,22,11]])\n",
    "cs=pd.DataFrame(c,  columns=['A', 'B', 'C', 'D', 'E']) # this will change np values in data frame\n",
    "cs.to_csv(\"Example_file.csv\", index=False, header=['A', 'B', 'C', 'D', 'E']) # this will create a csv file with Example_file name, without indexing and with column names as ABCDE\n",
    "# this file will be saved in the same main folder where your code is saved\n",
    "# print(cs) ## optional, just to check whether the output matches the csv file or not"
   ]
  },
  {
   "cell_type": "code",
   "execution_count": 22,
   "metadata": {},
   "outputs": [
    {
     "name": "stdout",
     "output_type": "stream",
     "text": [
      "    A   B   C   D   E\n",
      "0   1   2   3   4   5\n",
      "1  11  22  33  44  55\n",
      "2   5   4   3   2   1\n",
      "3  55  44  33  22  11\n",
      "--------------------------------------------\n",
      "    A   B   C   D   E\n",
      "0   1   2   3   4   5\n",
      "1  11  22  33  44  55\n",
      "--------------------------------------------\n",
      "    C\n",
      "0   3\n",
      "1  33\n",
      "2   3\n",
      "3  33\n",
      "--------------------------------------------\n"
     ]
    }
   ],
   "source": [
    "\n",
    "# Reading a csv file \n",
    "# --> variable_name=pd.read_csv(\"Complete path along with //.csv\", nrows=any_Number, or usecols=[\"column name\"])\n",
    "# --> nrows=num --> will read the number of rows and usecols=[\"name\" or index number]--> will read the column data\n",
    "# a sample csv file must be saved in hard disc to use it here\n",
    "csv=pd.read_csv(\"Example_file.csv\")\n",
    "print(csv) # this will print the data included in file\n",
    "print(\"--------------------------------------------\")\n",
    "csv_1=pd.read_csv(\"Example_file.csv\", nrows=2)\n",
    "print(csv_1) # this will print the data of only 2 top most rows of the file\n",
    "print(\"--------------------------------------------\")\n",
    "csv_2=pd.read_csv(\"Example_file.csv\", usecols=[\"C\"])\n",
    "print(csv_2) # this will print the data of only C column of the file\n",
    "print(\"--------------------------------------------\")\n"
   ]
  },
  {
   "cell_type": "code",
   "execution_count": 23,
   "metadata": {},
   "outputs": [
    {
     "name": "stdout",
     "output_type": "stream",
     "text": [
      "    1   2   3   4   5\n",
      "0  11  22  33  44  55\n",
      "1   5   4   3   2   1\n",
      "2  55  44  33  22  11\n",
      "---------------------------------------------\n"
     ]
    }
   ],
   "source": [
    "# skipping the rows from the file\n",
    "# --> name=pd.read_csv(\"file name.csv\", skip=[row index])\n",
    "csv_3=pd.read_csv(\"Example_file.csv\", skiprows=[0])\n",
    "print(csv_3) # this will skip row number 0 and prints the rest of the data of a file.\n",
    "print(\"---------------------------------------------\")\n"
   ]
  },
  {
   "cell_type": "code",
   "execution_count": 24,
   "metadata": {},
   "outputs": [
    {
     "name": "stdout",
     "output_type": "stream",
     "text": [
      "     B   C   D   E\n",
      "A                 \n",
      "1    2   3   4   5\n",
      "11  22  33  44  55\n",
      "5    4   3   2   1\n",
      "55  44  33  22  11\n",
      "---------------------------------------------\n"
     ]
    }
   ],
   "source": [
    "# making a column to work as an index\n",
    "# --> name=pd.read_csv(\"file name.csv\", index_col[\"name\" or index num])\n",
    "csv_4=pd.read_csv(\"Example_file.csv\", index_col=[\"A\"])\n",
    "print(csv_4) # this will print data after making column A as an index\n",
    "print(\"---------------------------------------------\")\n"
   ]
  },
  {
   "cell_type": "code",
   "execution_count": 25,
   "metadata": {},
   "outputs": [
    {
     "name": "stdout",
     "output_type": "stream",
     "text": [
      "   11  22  33  44  55\n",
      "0   5   4   3   2   1\n",
      "1  55  44  33  22  11\n",
      "---------------------------------------------\n"
     ]
    }
   ],
   "source": [
    "# now making row as header/column names\n",
    "# --> name=pd.read_csv(\"file name.csv\", header=row num)\n",
    "csv_5=pd.read_csv(\"Example_file.csv\", header=2)\n",
    "print(csv_5) # thi will print data after making row as header\n",
    "print(\"---------------------------------------------\")\n"
   ]
  },
  {
   "cell_type": "code",
   "execution_count": 26,
   "metadata": {},
   "outputs": [
    {
     "name": "stdout",
     "output_type": "stream",
     "text": [
      "  A=1st_v B=2nd_v C=3rd_v D=4th_v E=5th_v\n",
      "0       A       B       C       D       E\n",
      "1       1       2       3       4       5\n",
      "2      11      22      33      44      55\n",
      "3       5       4       3       2       1\n",
      "4      55      44      33      22      11\n",
      "---------------------------------------------\n"
     ]
    }
   ],
   "source": [
    "# giving heading to the data\n",
    "# --> name=pd.read_csv(\"file name.csv\", names=[\"name\", \"name\",....])\n",
    "csv_6=pd.read_csv(\"Example_file.csv\",names=[\"A=1st_v\", \"B=2nd_v\", \"C=3rd_v\", \"D=4th_v\", \"E=5th_v\"])\n",
    "print(csv_6) # this will print data frame with heading\n",
    "print(\"---------------------------------------------\")\n"
   ]
  },
  {
   "cell_type": "code",
   "execution_count": 27,
   "metadata": {},
   "outputs": [
    {
     "name": "stdout",
     "output_type": "stream",
     "text": [
      "      A   B   C   D   E\n",
      "0   1.0   2   3   4   5\n",
      "1  11.0  22  33  44  55\n",
      "2   5.0   4   3   2   1\n",
      "3  55.0  44  33  22  11\n",
      "---------------------------------------------\n"
     ]
    }
   ],
   "source": [
    "# converting dtypes of values in data frames\n",
    "# --> name=pd.read_csv(\"file name.csv\", dtype ={\"name of column\":\"dtype to convert in\"})\n",
    "csv_7=pd.read_csv(\"Example_file.csv\", dtype={\"A\":\"float\"})\n",
    "print(csv_7) # this will print data after converting data type of column A \n",
    "print(\"---------------------------------------------\")\n"
   ]
  },
  {
   "cell_type": "markdown",
   "metadata": {},
   "source": [
    "### some functions on csv file\n"
   ]
  },
  {
   "cell_type": "code",
   "execution_count": 28,
   "metadata": {},
   "outputs": [
    {
     "name": "stdout",
     "output_type": "stream",
     "text": [
      "\n",
      "The total number of indices are -->  RangeIndex(start=0, stop=4, step=1)\n",
      "---------------------------------------------\n"
     ]
    }
   ],
   "source": [
    "# to know the total number of indices in a data frame\n",
    "# first have to read the csv file \n",
    "# making use of abive defined csv_7\n",
    "# --> name.index\n",
    "i=csv_7.index\n",
    "print(\"\\nThe total number of indices are --> \", i)\n",
    "print(\"---------------------------------------------\")\n"
   ]
  },
  {
   "cell_type": "code",
   "execution_count": 29,
   "metadata": {},
   "outputs": [
    {
     "name": "stdout",
     "output_type": "stream",
     "text": [
      "The columns defined in data frame are -->  Index(['A', 'B', 'C', 'D', 'E'], dtype='object')\n",
      "---------------------------------------------\n"
     ]
    }
   ],
   "source": [
    "# in order to know the names of columns\n",
    "c=csv_7.columns\n",
    "print(\"The columns defined in data frame are --> \", c)\n",
    "print(\"---------------------------------------------\")\n"
   ]
  },
  {
   "cell_type": "code",
   "execution_count": 30,
   "metadata": {},
   "outputs": [
    {
     "name": "stdout",
     "output_type": "stream",
     "text": [
      "\n",
      "The first five rows are\n",
      "       A   B   C   D   E\n",
      "0   1.0   2   3   4   5\n",
      "1  11.0  22  33  44  55\n",
      "2   5.0   4   3   2   1\n",
      "3  55.0  44  33  22  11\n",
      "\n",
      "The data of first row is \n",
      "      A  B  C  D  E\n",
      "0  1.0  2  3  4  5\n",
      "---------------------------------------------\n"
     ]
    }
   ],
   "source": [
    "# to display data of selected rows \n",
    "# --> csv.head(number)\n",
    "h=csv_7.head() # this will print first 5 rows of data\n",
    "h_1= csv_7.head(1) # this will print data of 1st row\n",
    "print(\"\\nThe first five rows are\\n\", h)\n",
    "print(\"\\nThe data of first row is \\n\", h_1)\n",
    "print(\"---------------------------------------------\")\n"
   ]
  },
  {
   "cell_type": "code",
   "execution_count": 31,
   "metadata": {},
   "outputs": [
    {
     "name": "stdout",
     "output_type": "stream",
     "text": [
      "\n",
      "the data of last 2 lines is\n",
      "       A   B   C   D   E\n",
      "2   5.0   4   3   2   1\n",
      "3  55.0  44  33  22  11\n",
      "---------------------------------------------\n"
     ]
    }
   ],
   "source": [
    "# to display the bottom most data of selected rows\n",
    "# --> csv.tail(num), if num is not given than it will print last five lines of data\n",
    "t=csv_7.tail(2) \n",
    "print(\"\\nthe data of last 2 lines is\\n\", t)# will print last 2 lines of data\n",
    "print(\"---------------------------------------------\")\n"
   ]
  },
  {
   "cell_type": "code",
   "execution_count": 32,
   "metadata": {},
   "outputs": [
    {
     "name": "stdout",
     "output_type": "stream",
     "text": [
      "      A   B   C   D   E\n",
      "1  11.0  22  33  44  55\n",
      "2   5.0   4   3   2   1\n",
      "3  55.0  44  33  22  11\n",
      "---------------------------------------------\n"
     ]
    }
   ],
   "source": [
    "# in order to get values through a particular range using string slicing\n",
    "# --> csv[slicing]\n",
    "s=csv_7[1:4] # the last number is always n-1 --> 4-1=3\n",
    "print(s) # this will print values from row 1 to the row 3 bcz 4-1\n",
    "print(\"---------------------------------------------\")\n"
   ]
  },
  {
   "cell_type": "code",
   "execution_count": 33,
   "metadata": {},
   "outputs": [
    {
     "name": "stdout",
     "output_type": "stream",
     "text": [
      "\n",
      "The index nums in array formate is\n",
      " <PandasArray>\n",
      "[0, 1, 2, 3]\n",
      "Length: 4, dtype: int64\n",
      "---------------------------------------------\n"
     ]
    }
   ],
   "source": [
    "# changing index numbers into arrays\n",
    "# --> csv.index.array\n",
    "ch=csv_7.index.array\n",
    "print(\"\\nThe index nums in array formate is\\n\", ch)\n",
    "print(\"---------------------------------------------\")\n"
   ]
  },
  {
   "cell_type": "code",
   "execution_count": 34,
   "metadata": {},
   "outputs": [
    {
     "name": "stdout",
     "output_type": "stream",
     "text": [
      "\n",
      "The data frame changed into numpy is\n",
      " [[ 1.  2.  3.  4.  5.]\n",
      " [11. 22. 33. 44. 55.]\n",
      " [ 5.  4.  3.  2.  1.]\n",
      " [55. 44. 33. 22. 11.]]\n",
      "\n",
      "Data frame changed in numpy through np method\n",
      " [[ 1.  2.  3.  4.  5.]\n",
      " [11. 22. 33. 44. 55.]\n",
      " [ 5.  4.  3.  2.  1.]\n",
      " [55. 44. 33. 22. 11.]]\n",
      "---------------------------------------------\n"
     ]
    }
   ],
   "source": [
    "# to change whole data frame into numpy\n",
    "# --> csv.to_numpoy()\n",
    "# --> variable=np.asarray(datafrmane name)\n",
    "n=csv_7.to_numpy()\n",
    "print(\"\\nThe data frame changed into numpy is\\n\", n)\n",
    "# now through another method\n",
    "m=np.asarray(csv_7) \n",
    "print(\"\\nData frame changed in numpy through np method\\n\", m) # will print the same result as above\n",
    "print(\"---------------------------------------------\")\n"
   ]
  },
  {
   "cell_type": "code",
   "execution_count": 35,
   "metadata": {},
   "outputs": [
    {
     "name": "stdout",
     "output_type": "stream",
     "text": [
      "\n",
      "The descending ordered data frame is \n",
      "       A   B   C   D   E\n",
      "3  55.0  44  33  22  11\n",
      "2   5.0   4   3   2   1\n",
      "1  11.0  22  33  44  55\n",
      "0   1.0   2   3   4   5\n",
      "---------------------------------------------\n"
     ]
    }
   ],
   "source": [
    "# printing data in descending order\n",
    "# --> name.sort_index(axis=0 or 1 , ascending = false)\n",
    "# axis=0 means to access the row and axis=1 means to access the column of data frame \n",
    "asc=csv_7.sort_index(axis=0, ascending=False) # will convert in descending \n",
    "print(\"\\nThe descending ordered data frame is \\n\", asc)\n",
    "print(\"---------------------------------------------\")\n",
    "\n"
   ]
  },
  {
   "cell_type": "code",
   "execution_count": 36,
   "metadata": {},
   "outputs": [
    {
     "name": "stdout",
     "output_type": "stream",
     "text": [
      "      A      B   C   D   E\n",
      "0   1.0  hello   3   4   5\n",
      "1  11.0     22  33  44  55\n",
      "2   5.0      4   3   2   1\n",
      "3  55.0     44  33  22  11\n",
      "---------------------------------------------\n"
     ]
    }
   ],
   "source": [
    "# changing data from a data frame\n",
    "# --> name.loc[row num, column num or \"name\"] = change\n",
    "csv_8=pd.read_csv(\"Example_file.csv\", dtype={\"A\":\"float\"})\n",
    "csv_8.loc[0,\"B\"]=\"hello\"\n",
    "print(csv_8) # will print the data frame by changing its value at index=0 and Column B\n",
    "print(\"---------------------------------------------\")\n"
   ]
  },
  {
   "cell_type": "code",
   "execution_count": 37,
   "metadata": {},
   "outputs": [
    {
     "name": "stdout",
     "output_type": "stream",
     "text": [
      "\n",
      "The desired values from the data are\n",
      "        B   C\n",
      "0  hello   3\n",
      "3     44  33\n",
      "---------------------------------------------\n"
     ]
    }
   ],
   "source": [
    "# fetching data of selected column and row\n",
    "# --> name.loc[[row nums], [\"column names\"]]\n",
    "d=csv_8.loc[[0,3], [\"B\",\"C\"]]\n",
    "print(\"\\nThe desired values from the data are\\n\", d) # will print the values at index= 0 and 3 of column names B and C\n",
    "print(\"---------------------------------------------\")\n"
   ]
  },
  {
   "cell_type": "code",
   "execution_count": 38,
   "metadata": {},
   "outputs": [
    {
     "name": "stdout",
     "output_type": "stream",
     "text": [
      "\n",
      "the data frame after dropping a particular column\n",
      "       A      B   D   E\n",
      "0   1.0  hello   4   5\n",
      "1  11.0     22  44  55\n",
      "2   5.0      4   2   1\n",
      "3  55.0     44  22  11\n",
      "---------------------------------------------\n"
     ]
    }
   ],
   "source": [
    "# drop/remove any row or column from the data\n",
    "# -->name.drop(index for row or \"column name\" , axis=0 for row and axis=1 for column)\n",
    "# if in case the data contains any NAN value at any position than to remove it, use --> name.dropna(axis=0 for rows and axis=1 for columns)\n",
    "# to remove any particular row which contains all NAN values of that row, use --> name.dropna(how=\"all\")\n",
    "# to remove any particular row which contains all NAN values along with the those which atleast contain one NAN value, use --> name.dropna(how=\"any\")\n",
    "# to remove any NAN value of any selected column, use --> name.dropna(subset=[\"name of column\"])\n",
    "dr=csv_8.drop(\"C\", axis=1)\n",
    "print(\"\\nthe data frame after dropping a particular column\\n\", dr) # the column C will not be the part of data anymore\n",
    "print(\"---------------------------------------------\")\n"
   ]
  },
  {
   "cell_type": "code",
   "execution_count": 39,
   "metadata": {},
   "outputs": [
    {
     "name": "stdout",
     "output_type": "stream",
     "text": [
      "\n",
      "The data frame before replace function is\n",
      "     A   B   C   D   E\n",
      "0   1   2   3   4   5\n",
      "1  11  22  33  44  55\n",
      "2   5   4   3   2   1\n",
      "3  55  44  33  22  11\n",
      "\n",
      "The data frame after replace function is\n",
      "     A   B   C   D   E\n",
      "0  hi   2   3   4   5\n",
      "1  11  22  33  44  55\n",
      "2   5   4   3   2  hi\n",
      "3  55  44  33  22  11\n",
      "---------------------------------------------\n"
     ]
    }
   ],
   "source": [
    "# to fill any NAN value, use --> name.fillna([value or \"value\"])-- this will fill all NAN values present in data\n",
    "# to fill any NAN value in the particular column, use --> name.fillna({\"name of column\":value or \"value\", ....})\n",
    "# to fill any NAN value with the previous data means same as the previous value, use --> name.fillna(method=\"ffill\")\n",
    "# to fill any NAN value with the next data means same as the previous value, use --> name.fillna(method=\"bfill\")\n",
    "# to fill any NAN values by suing axis 1 for column and o for row, use --> name.fillna(method=\"b/ffile\", axis=1/0)\n",
    "# to fill any NAN value to a certain limit, use --> name.fillna(\"value\"/value, limit=num)-- will the NAN values to the limit defined\n",
    "\n",
    "\n",
    "# Replace any value with other one\n",
    "# --> name.replace(to_replace= value/\"value\", value=value/\"value\")\n",
    "csv_9=pd.read_csv(\"Example_file.csv\")\n",
    "print(\"\\nThe data frame before replace function is\\n\",csv_9)\n",
    "r=csv_9.replace(to_replace= 1, value=\"hi\") # this will replace all 1s with \"hi\" string \n",
    "print(\"\\nThe data frame after replace function is\\n\",r)\n",
    "print(\"---------------------------------------------\")\n"
   ]
  },
  {
   "cell_type": "code",
   "execution_count": 40,
   "metadata": {},
   "outputs": [
    {
     "name": "stdout",
     "output_type": "stream",
     "text": [
      "    A   B   C   D   E\n",
      "0   2   2   3   4   7\n",
      "1  22  22  33  44  55\n",
      "2   7   4   3   2   2\n",
      "3  55  44  33  22  22\n",
      "---------------------------------------------\n"
     ]
    }
   ],
   "source": [
    "# replacing the selceted values to a certain range  \n",
    "c=csv_9.replace([1,11,5], [2,22,7]) # will replace the values with givin values\n",
    "print(c)\n",
    "print(\"---------------------------------------------\")\n"
   ]
  },
  {
   "cell_type": "code",
   "execution_count": 41,
   "metadata": {},
   "outputs": [
    {
     "name": "stdout",
     "output_type": "stream",
     "text": [
      "\n",
      "the merged data frame is \n",
      "    A   B    C\n",
      "0  1   6   66\n",
      "1  2   7   77\n",
      "2  3   8   88\n",
      "3  4   9   99\n",
      "4  5  10  100\n",
      "---------------------------------------------\n"
     ]
    }
   ],
   "source": [
    "\n",
    "# merging two or more data frames that contain atleast one common column\n",
    "# --> name.merge(df1,df2,..., on=\"common column name\"), changing positions of dfs will also change the position in data frames\n",
    "df1=pd.DataFrame({\"A\":[1,2,3,4,5], \"B\":[6,7,8,9,10]})\n",
    "df2=pd.DataFrame({\"A\":[1,2,3,4,5], \"C\":[66,77,88,99,100]}) # here column A is common with common elements in both data frames\n",
    "mg=pd.merge(df1,df2)# will merge A\n",
    "print(\"\\nthe merged data frame is \\n\", mg)\n",
    "print(\"---------------------------------------------\")\n"
   ]
  },
  {
   "cell_type": "code",
   "execution_count": 42,
   "metadata": {},
   "outputs": [
    {
     "name": "stdout",
     "output_type": "stream",
     "text": [
      "\n",
      "the merged data frame with uncommon element is \n",
      "    A  B   C\n",
      "0  1  6  66\n",
      "1  2  7  77\n",
      "2  3  8  88\n",
      "3  4  9  99\n",
      "---------------------------------------------\n"
     ]
    }
   ],
   "source": [
    "# merging dataframes with atleast one or common element\n",
    "df_1=pd.DataFrame({\"A\":[1,2,3,4,5], \"B\":[6,7,8,9,10]})\n",
    "df_2=pd.DataFrame({\"A\":[1,2,3,4,88],\"C\":[66,77,88,99,100]}) # A is common but only one element is not common\n",
    "mg_1=pd.merge(df_1,df_2, on=\"A\") # will merge the common elements by skipping the uncommon ones\n",
    "print(\"\\nthe merged data frame with uncommon element is \\n\", mg_1)\n",
    "print(\"---------------------------------------------\")\n"
   ]
  },
  {
   "cell_type": "code",
   "execution_count": 43,
   "metadata": {},
   "outputs": [
    {
     "name": "stdout",
     "output_type": "stream",
     "text": [
      "\n",
      "The concatenated data farme is \n",
      "    A   B   A    B\n",
      "0  1   6   1   66\n",
      "1  2   7   2   77\n",
      "2  3   8   3   88\n",
      "3  4   9   4   99\n",
      "4  5  10  88  100\n",
      "\n",
      "The concatenated data farme with name is \n",
      "   data_1     data_2     \n",
      "       A   B      A    B\n",
      "0      1   6      1   66\n",
      "1      2   7      2   77\n",
      "2      3   8      3   88\n",
      "3      4   9      4   99\n",
      "4      5  10     88  100\n",
      "---------------------------------------------\n"
     ]
    }
   ],
   "source": [
    "# concatenating the data frames \n",
    "# --> pd.concat([name1,name2], axis=0/1, keys=[\"name1\", \"name2\",...])\n",
    "# key=[] helps to add the names of two or more concatente=ing arrays\n",
    "d1=pd.DataFrame({\"A\":[1,2,3,4,5], \"B\":[6,7,8,9,10]})\n",
    "d2=pd.DataFrame({\"A\":[1,2,3,4,88],\"B\":[66,77,88,99,100]})\n",
    "con_s=pd.concat([d1,d2], axis= 1) # axis=1 will concatenate the dataframe row wise, otherise, column wise\n",
    "con_k=pd.concat([d1,d2], axis= 1, keys=[\"data_1\", \"data_2\"])\n",
    "print(\"\\nThe concatenated data farme is \\n\", con_s)# this will simply print the concatenated data \n",
    "print(\"\\nThe concatenated data farme with name is \\n\", con_k)# this will print the concatenated data with names\n",
    "print(\"---------------------------------------------\")\n"
   ]
  },
  {
   "cell_type": "code",
   "execution_count": 44,
   "metadata": {},
   "outputs": [
    {
     "name": "stdout",
     "output_type": "stream",
     "text": [
      "\n",
      "The concatenated data farme with some missing values is \n",
      "    A  B     A      C\n",
      "0  1  6   4.0   66.0\n",
      "1  2  7  88.0  100.0\n",
      "2  4  8   NaN    NaN\n",
      "3  5  9   NaN    NaN\n",
      "---------------------------------------------\n"
     ]
    }
   ],
   "source": [
    "# concatenating data frames with missing values\n",
    "a_1=pd.DataFrame({\"A\":[1,2,4,5], \"B\":[6,7,8,9]}) # the array sizes must be same\n",
    "a_2=pd.DataFrame({\"A\":[4,88],\"C\":[66,100]})# the array sizes must be same\n",
    "con_1=pd.concat([a_1,a_2], axis=1)# will concatenate by adding NAN in the place of missing values\n",
    "print(\"\\nThe concatenated data farme with some missing values is \\n\", con_1)\n",
    "print(\"---------------------------------------------\")\n"
   ]
  },
  {
   "cell_type": "code",
   "execution_count": 45,
   "metadata": {},
   "outputs": [
    {
     "name": "stdout",
     "output_type": "stream",
     "text": [
      "\n",
      "The joined data frames are\n",
      "    A  B     C      D\n",
      "0  1  6   4.0   66.0\n",
      "1  2  7  88.0  100.0\n",
      "2  4  8   NaN    NaN\n",
      "3  5  9   NaN    NaN\n",
      "---------------------------------------------\n"
     ]
    }
   ],
   "source": [
    "# joing the data frames\n",
    "# --> name1.join(name2)\n",
    "j_1=pd.DataFrame({\"A\":[1,2,4,5], \"B\":[6,7,8,9]}) # the array sizes must be same\n",
    "j_2=pd.DataFrame({\"C\":[4,88],\"D\":[66,100]})\n",
    "j=j_1.join(j_2) # will join the data frames by placing NAN on missing values' place\n",
    "print(\"\\nThe joined data frames are\\n\", j)\n",
    "print(\"---------------------------------------------\")\n"
   ]
  },
  {
   "cell_type": "code",
   "execution_count": null,
   "metadata": {},
   "outputs": [],
   "source": []
  }
 ],
 "metadata": {
  "kernelspec": {
   "display_name": "Python 3",
   "language": "python",
   "name": "python3"
  },
  "language_info": {
   "codemirror_mode": {
    "name": "ipython",
    "version": 3
   },
   "file_extension": ".py",
   "mimetype": "text/x-python",
   "name": "python",
   "nbconvert_exporter": "python",
   "pygments_lexer": "ipython3",
   "version": "3.11.1"
  }
 },
 "nbformat": 4,
 "nbformat_minor": 2
}
